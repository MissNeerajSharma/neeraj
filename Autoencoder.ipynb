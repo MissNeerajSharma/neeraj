{
  "nbformat": 4,
  "nbformat_minor": 0,
  "metadata": {
    "colab": {
      "name": "Autoencoder.ipynb",
      "version": "0.3.2",
      "provenance": [],
      "collapsed_sections": [],
      "include_colab_link": true
    },
    "language_info": {
      "codemirror_mode": {
        "name": "ipython",
        "version": 3
      },
      "file_extension": ".py",
      "mimetype": "text/x-python",
      "name": "python",
      "nbconvert_exporter": "python",
      "pygments_lexer": "ipython3",
      "version": "3.6.5"
    },
    "kernelspec": {
      "display_name": "Python 3",
      "language": "python",
      "name": "python3"
    }
  },
  "cells": [
    {
      "cell_type": "markdown",
      "metadata": {
        "id": "view-in-github",
        "colab_type": "text"
      },
      "source": [
        "<a href=\"https://colab.research.google.com/github/NEERAJSHARMABSDU/neeraj/blob/master/Autoencoder.ipynb\" target=\"_parent\"><img src=\"https://colab.research.google.com/assets/colab-badge.svg\" alt=\"Open In Colab\"/></a>"
      ]
    },
    {
      "cell_type": "markdown",
      "metadata": {
        "colab_type": "text",
        "id": "Ua6vY1VyGoH5"
      },
      "source": [
        "# Deep Learning and Applications : Joint Faculty Development Programme\n",
        "# May 27 -31, 2019 \n",
        "\n",
        "**Participating Academies : IIT Roorkee ,  MNIT Jaipur, NIT Patna, PDPM IIITDM Jabalpur  **\n",
        "\n",
        "**Prinicipal Coordinating Academies : IIT Roorkee and PDPM IIITDM Jabalpur**\n",
        "\n",
        "# Tutorial 4: Introduction to Autoencoders\n",
        "** In this tutorial, we provide you a brief introduction to Autoencoders.**\n",
        "\n",
        "\n",
        "Autoencoders is an unsupervised learning technique, which does not require output labels with the data. Autoencoders are same as dimension reduction methods such as Principal Component Analysis(PCA). Autoencoders are based on the concept of data encoding and decoding. The ultimate objective of Autoencoder us to minimize the recosntruction error.\n",
        "\n",
        "There are variety of autoencoders, such as the convolutional autoencoder, denoising autoencoder, variational autoencoder and sparse autoencoder. We are going to implement convolutional autoencoder."
      ]
    },
    {
      "cell_type": "markdown",
      "metadata": {
        "colab_type": "text",
        "id": "4uiTlFNhGoH8"
      },
      "source": [
        "### Importing the required libraries"
      ]
    },
    {
      "cell_type": "code",
      "metadata": {
        "colab_type": "code",
        "id": "_Q5MO1juGoH_",
        "colab": {
          "base_uri": "https://localhost:8080/",
          "height": 34
        },
        "outputId": "34feaf94-a0a1-44f5-fee2-c23150e74b20"
      },
      "source": [
        "from keras.layers import Input, Dense\n",
        "from keras.models import Model\n"
      ],
      "execution_count": 1,
      "outputs": [
        {
          "output_type": "stream",
          "text": [
            "Using TensorFlow backend.\n"
          ],
          "name": "stderr"
        }
      ]
    },
    {
      "cell_type": "markdown",
      "metadata": {
        "colab_type": "text",
        "id": "0ivieBfxGoIH"
      },
      "source": [
        "### Model Building "
      ]
    },
    {
      "cell_type": "code",
      "metadata": {
        "colab_type": "code",
        "id": "m3sozIZyGoIJ",
        "colab": {
          "base_uri": "https://localhost:8080/",
          "height": 87
        },
        "outputId": "758c3d5c-1c78-4aef-ae23-f6f3510e6aae"
      },
      "source": [
        "# this is the size of our encoded representations\n",
        "encoding_dim = 32  # 32 floats -> compression of factor 24.5, assuming the input is 784 floats\n",
        "\n",
        "# this is our input placeholder\n",
        "input_img = Input(shape=(784,))\n",
        "# \"encoded\" is the encoded representation of the input\n",
        "encoded = Dense(encoding_dim, activation='relu')(input_img)\n",
        "ecoded = Dense(16, activation='relu')(encoded)\n",
        "# \"decoded\" is the lossy reconstruction of the input\n",
        "decoded = Dense(16, activation='sigmoid')(encoded)\n",
        "decoded = Dense(784, activation='sigmoid')(encoded)\n",
        "\n",
        "# this model maps an input to its reconstruction\n",
        "autoencoder = Model(input_img, decoded)"
      ],
      "execution_count": 2,
      "outputs": [
        {
          "output_type": "stream",
          "text": [
            "WARNING:tensorflow:From /usr/local/lib/python3.6/dist-packages/tensorflow/python/framework/op_def_library.py:263: colocate_with (from tensorflow.python.framework.ops) is deprecated and will be removed in a future version.\n",
            "Instructions for updating:\n",
            "Colocations handled automatically by placer.\n"
          ],
          "name": "stdout"
        }
      ]
    },
    {
      "cell_type": "code",
      "metadata": {
        "colab_type": "code",
        "id": "IoSFG_hsGoIO",
        "colab": {}
      },
      "source": [
        "# this model maps an input to its encoded representation\n",
        "encoder = Model(input_img, encoded)"
      ],
      "execution_count": 0,
      "outputs": []
    },
    {
      "cell_type": "code",
      "metadata": {
        "colab_type": "code",
        "id": "wqH2yXIeGoIS",
        "colab": {}
      },
      "source": [
        "# create a placeholder for an encoded (32-dimensional) input\n",
        "encoded_input = Input(shape=(encoding_dim,))\n",
        "# retrieve the last layer of the autoencoder model\n",
        "decoder_layer = autoencoder.layers[-1]\n",
        "# create the decoder model\n",
        "decoder = Model(encoded_input, decoder_layer(encoded_input))\n"
      ],
      "execution_count": 0,
      "outputs": []
    },
    {
      "cell_type": "markdown",
      "metadata": {
        "colab_type": "text",
        "id": "Md9h-uhHGoIW"
      },
      "source": [
        "### Model Configuration"
      ]
    },
    {
      "cell_type": "code",
      "metadata": {
        "colab_type": "code",
        "id": "EMpAUqbsGoIY",
        "colab": {}
      },
      "source": [
        "autoencoder.compile(optimizer='adadelta', loss='mse')"
      ],
      "execution_count": 0,
      "outputs": []
    },
    {
      "cell_type": "markdown",
      "metadata": {
        "colab_type": "text",
        "id": "BCNH30MRGoIc"
      },
      "source": [
        "### Data Loading and Preprocessing"
      ]
    },
    {
      "cell_type": "code",
      "metadata": {
        "colab_type": "code",
        "id": "95QA-thxGoIe",
        "colab": {
          "base_uri": "https://localhost:8080/",
          "height": 50
        },
        "outputId": "f11655f7-4eb7-4dab-fa55-c8d5b6658d62"
      },
      "source": [
        "from keras.datasets import mnist\n",
        "import numpy as np\n",
        "(x_train, _), (x_test, _) = mnist.load_data()"
      ],
      "execution_count": 6,
      "outputs": [
        {
          "output_type": "stream",
          "text": [
            "Downloading data from https://s3.amazonaws.com/img-datasets/mnist.npz\n",
            "11493376/11490434 [==============================] - 0s 0us/step\n"
          ],
          "name": "stdout"
        }
      ]
    },
    {
      "cell_type": "code",
      "metadata": {
        "colab_type": "code",
        "id": "DhClMbnFGoIi",
        "colab": {
          "base_uri": "https://localhost:8080/",
          "height": 50
        },
        "outputId": "8d680873-4cb4-455c-f17f-30ba22babe52"
      },
      "source": [
        "x_train = x_train.astype('float32') / 255.\n",
        "x_test = x_test.astype('float32') / 255.\n",
        "x_train = x_train.reshape((len(x_train), np.prod(x_train.shape[1:])))\n",
        "x_test = x_test.reshape((len(x_test), np.prod(x_test.shape[1:])))\n",
        "print(x_train.shape)\n",
        "print(x_test.shape)"
      ],
      "execution_count": 7,
      "outputs": [
        {
          "output_type": "stream",
          "text": [
            "(60000, 784)\n",
            "(10000, 784)\n"
          ],
          "name": "stdout"
        }
      ]
    },
    {
      "cell_type": "markdown",
      "metadata": {
        "colab_type": "text",
        "id": "SPv_irNEGoIo"
      },
      "source": [
        "### Training the model"
      ]
    },
    {
      "cell_type": "code",
      "metadata": {
        "colab_type": "code",
        "id": "6E2AVKNRGoIr",
        "scrolled": false,
        "colab": {
          "base_uri": "https://localhost:8080/",
          "height": 1801
        },
        "outputId": "4ec87da9-3985-4936-845b-5f8b2ae4a187"
      },
      "source": [
        "autoencoder.fit(x_train, x_train,\n",
        "                epochs=50,\n",
        "                batch_size=256,\n",
        "                shuffle=True,\n",
        "                validation_data=(x_test, x_test))"
      ],
      "execution_count": 8,
      "outputs": [
        {
          "output_type": "stream",
          "text": [
            "WARNING:tensorflow:From /usr/local/lib/python3.6/dist-packages/tensorflow/python/ops/math_ops.py:3066: to_int32 (from tensorflow.python.ops.math_ops) is deprecated and will be removed in a future version.\n",
            "Instructions for updating:\n",
            "Use tf.cast instead.\n",
            "Train on 60000 samples, validate on 10000 samples\n",
            "Epoch 1/50\n",
            "60000/60000 [==============================] - 2s 36us/step - loss: 0.1292 - val_loss: 0.0722\n",
            "Epoch 2/50\n",
            "60000/60000 [==============================] - 2s 27us/step - loss: 0.0705 - val_loss: 0.0693\n",
            "Epoch 3/50\n",
            "60000/60000 [==============================] - 2s 26us/step - loss: 0.0682 - val_loss: 0.0671\n",
            "Epoch 4/50\n",
            "60000/60000 [==============================] - 2s 26us/step - loss: 0.0657 - val_loss: 0.0642\n",
            "Epoch 5/50\n",
            "60000/60000 [==============================] - 2s 27us/step - loss: 0.0627 - val_loss: 0.0609\n",
            "Epoch 6/50\n",
            "60000/60000 [==============================] - 2s 26us/step - loss: 0.0595 - val_loss: 0.0577\n",
            "Epoch 7/50\n",
            "60000/60000 [==============================] - 2s 27us/step - loss: 0.0563 - val_loss: 0.0545\n",
            "Epoch 8/50\n",
            "60000/60000 [==============================] - 2s 26us/step - loss: 0.0533 - val_loss: 0.0514\n",
            "Epoch 9/50\n",
            "60000/60000 [==============================] - 2s 26us/step - loss: 0.0506 - val_loss: 0.0489\n",
            "Epoch 10/50\n",
            "60000/60000 [==============================] - 2s 26us/step - loss: 0.0482 - val_loss: 0.0467\n",
            "Epoch 11/50\n",
            "60000/60000 [==============================] - 2s 26us/step - loss: 0.0462 - val_loss: 0.0448\n",
            "Epoch 12/50\n",
            "60000/60000 [==============================] - 2s 26us/step - loss: 0.0445 - val_loss: 0.0432\n",
            "Epoch 13/50\n",
            "60000/60000 [==============================] - 2s 26us/step - loss: 0.0430 - val_loss: 0.0418\n",
            "Epoch 14/50\n",
            "60000/60000 [==============================] - 2s 26us/step - loss: 0.0416 - val_loss: 0.0405\n",
            "Epoch 15/50\n",
            "60000/60000 [==============================] - 2s 26us/step - loss: 0.0404 - val_loss: 0.0393\n",
            "Epoch 16/50\n",
            "60000/60000 [==============================] - 2s 26us/step - loss: 0.0392 - val_loss: 0.0382\n",
            "Epoch 17/50\n",
            "60000/60000 [==============================] - 2s 26us/step - loss: 0.0382 - val_loss: 0.0373\n",
            "Epoch 18/50\n",
            "60000/60000 [==============================] - 2s 26us/step - loss: 0.0373 - val_loss: 0.0364\n",
            "Epoch 19/50\n",
            "60000/60000 [==============================] - 2s 27us/step - loss: 0.0365 - val_loss: 0.0356\n",
            "Epoch 20/50\n",
            "60000/60000 [==============================] - 2s 26us/step - loss: 0.0357 - val_loss: 0.0349\n",
            "Epoch 21/50\n",
            "60000/60000 [==============================] - 2s 26us/step - loss: 0.0350 - val_loss: 0.0342\n",
            "Epoch 22/50\n",
            "60000/60000 [==============================] - 2s 26us/step - loss: 0.0343 - val_loss: 0.0336\n",
            "Epoch 23/50\n",
            "60000/60000 [==============================] - 2s 26us/step - loss: 0.0336 - val_loss: 0.0329\n",
            "Epoch 24/50\n",
            "60000/60000 [==============================] - 2s 26us/step - loss: 0.0331 - val_loss: 0.0323\n",
            "Epoch 25/50\n",
            "60000/60000 [==============================] - 2s 26us/step - loss: 0.0325 - val_loss: 0.0318\n",
            "Epoch 26/50\n",
            "60000/60000 [==============================] - 2s 26us/step - loss: 0.0319 - val_loss: 0.0312\n",
            "Epoch 27/50\n",
            "60000/60000 [==============================] - 2s 26us/step - loss: 0.0314 - val_loss: 0.0307\n",
            "Epoch 28/50\n",
            "60000/60000 [==============================] - 2s 26us/step - loss: 0.0309 - val_loss: 0.0302\n",
            "Epoch 29/50\n",
            "60000/60000 [==============================] - 2s 26us/step - loss: 0.0304 - val_loss: 0.0298\n",
            "Epoch 30/50\n",
            "60000/60000 [==============================] - 2s 26us/step - loss: 0.0300 - val_loss: 0.0293\n",
            "Epoch 31/50\n",
            "60000/60000 [==============================] - 2s 26us/step - loss: 0.0295 - val_loss: 0.0289\n",
            "Epoch 32/50\n",
            "60000/60000 [==============================] - 2s 26us/step - loss: 0.0291 - val_loss: 0.0285\n",
            "Epoch 33/50\n",
            "60000/60000 [==============================] - 2s 26us/step - loss: 0.0286 - val_loss: 0.0280\n",
            "Epoch 34/50\n",
            "60000/60000 [==============================] - 2s 26us/step - loss: 0.0282 - val_loss: 0.0276\n",
            "Epoch 35/50\n",
            "60000/60000 [==============================] - 2s 26us/step - loss: 0.0278 - val_loss: 0.0272\n",
            "Epoch 36/50\n",
            "60000/60000 [==============================] - 2s 26us/step - loss: 0.0275 - val_loss: 0.0269\n",
            "Epoch 37/50\n",
            "60000/60000 [==============================] - 2s 26us/step - loss: 0.0271 - val_loss: 0.0265\n",
            "Epoch 38/50\n",
            "60000/60000 [==============================] - 2s 26us/step - loss: 0.0267 - val_loss: 0.0262\n",
            "Epoch 39/50\n",
            "60000/60000 [==============================] - 2s 26us/step - loss: 0.0264 - val_loss: 0.0258\n",
            "Epoch 40/50\n",
            "60000/60000 [==============================] - 2s 27us/step - loss: 0.0261 - val_loss: 0.0255\n",
            "Epoch 41/50\n",
            "60000/60000 [==============================] - 2s 25us/step - loss: 0.0257 - val_loss: 0.0252\n",
            "Epoch 42/50\n",
            "60000/60000 [==============================] - 2s 25us/step - loss: 0.0254 - val_loss: 0.0249\n",
            "Epoch 43/50\n",
            "60000/60000 [==============================] - 2s 26us/step - loss: 0.0251 - val_loss: 0.0246\n",
            "Epoch 44/50\n",
            "60000/60000 [==============================] - 2s 25us/step - loss: 0.0248 - val_loss: 0.0243\n",
            "Epoch 45/50\n",
            "60000/60000 [==============================] - 2s 26us/step - loss: 0.0245 - val_loss: 0.0240\n",
            "Epoch 46/50\n",
            "60000/60000 [==============================] - 2s 26us/step - loss: 0.0242 - val_loss: 0.0237\n",
            "Epoch 47/50\n",
            "60000/60000 [==============================] - 2s 25us/step - loss: 0.0240 - val_loss: 0.0234\n",
            "Epoch 48/50\n",
            "60000/60000 [==============================] - 2s 25us/step - loss: 0.0237 - val_loss: 0.0231\n",
            "Epoch 49/50\n",
            "60000/60000 [==============================] - 2s 25us/step - loss: 0.0234 - val_loss: 0.0229\n",
            "Epoch 50/50\n",
            "60000/60000 [==============================] - 2s 25us/step - loss: 0.0231 - val_loss: 0.0226\n"
          ],
          "name": "stdout"
        },
        {
          "output_type": "execute_result",
          "data": {
            "text/plain": [
              "<keras.callbacks.History at 0x7ff1b3199940>"
            ]
          },
          "metadata": {
            "tags": []
          },
          "execution_count": 8
        }
      ]
    },
    {
      "cell_type": "markdown",
      "metadata": {
        "colab_type": "text",
        "id": "WOOr7q3nGoIx"
      },
      "source": [
        "### Predicting the encoder output by providing input dataset  and decoder output by providing encoded images as input"
      ]
    },
    {
      "cell_type": "code",
      "metadata": {
        "colab_type": "code",
        "id": "1ITvzsnXGoIy",
        "colab": {}
      },
      "source": [
        "# encode and decode some digits\n",
        "# note that we take them from the *test* set\n",
        "encoded_imgs = encoder.predict(x_test)\n",
        "decoded_imgs = decoder.predict(encoded_imgs)"
      ],
      "execution_count": 0,
      "outputs": []
    },
    {
      "cell_type": "markdown",
      "metadata": {
        "colab_type": "text",
        "id": "NSnodJY0GoI3"
      },
      "source": [
        "### Showing the results on test dataset"
      ]
    },
    {
      "cell_type": "code",
      "metadata": {
        "colab_type": "code",
        "id": "2AIe0MwnGoI5",
        "colab": {
          "base_uri": "https://localhost:8080/",
          "height": 264
        },
        "outputId": "cc77e331-ed64-4ab5-e000-79ded5f800aa"
      },
      "source": [
        "# use Matplotlib (don't ask)\n",
        "import matplotlib.pyplot as plt\n",
        "\n",
        "n = 10  # how many digits we will display\n",
        "plt.figure(figsize=(20, 4))\n",
        "for i in range(n):\n",
        "    # display original\n",
        "    ax = plt.subplot(2, n, i + 1)\n",
        "    plt.imshow(x_test[i].reshape(28, 28))\n",
        "    plt.gray()\n",
        "    ax.get_xaxis().set_visible(False)\n",
        "    ax.get_yaxis().set_visible(False)\n",
        "\n",
        "    # display reconstruction\n",
        "    ax = plt.subplot(2, n, i + 1 + n)\n",
        "    plt.imshow(decoded_imgs[i].reshape(28, 28))\n",
        "    plt.gray()\n",
        "    ax.get_xaxis().set_visible(False)\n",
        "    ax.get_yaxis().set_visible(False)\n",
        "plt.show()"
      ],
      "execution_count": 10,
      "outputs": [
        {
          "output_type": "display_data",
          "data": {
            "image/png": "[encoded data removed]",
            "text/plain": [
              "<Figure size 1440x288 with 20 Axes>"
            ]
          },
          "metadata": {
            "tags": []
          }
        }
      ]
    },
    {
      "cell_type": "markdown",
      "metadata": {
        "colab_type": "text",
        "id": "hDyTm9gOGoI9"
      },
      "source": [
        "Code Source : https://blog.keras.io/building-autoencoders-in-keras.html"
      ]
    },
    {
      "cell_type": "code",
      "metadata": {
        "colab_type": "code",
        "id": "6hVV8F73Grdc",
        "colab": {
          "base_uri": "https://localhost:8080/",
          "height": 128
        },
        "outputId": "177bfc71-53f4-481a-8c95-87516e631b50"
      },
      "source": [
        "Tutorial by Poornima Singh Thakur, PhD student, IIITDM Jabalpur"
      ],
      "execution_count": 11,
      "outputs": [
        {
          "output_type": "error",
          "ename": "SyntaxError",
          "evalue": "ignored",
          "traceback": [
            "\u001b[0;36m  File \u001b[0;32m\"<ipython-input-11-c633c0d30859>\"\u001b[0;36m, line \u001b[0;32m1\u001b[0m\n\u001b[0;31m    Tutorial by Poornima Singh Thakur, PhD student, IIITDM Jabalpur\u001b[0m\n\u001b[0m              ^\u001b[0m\n\u001b[0;31mSyntaxError\u001b[0m\u001b[0;31m:\u001b[0m invalid syntax\n"
          ]
        }
      ]
    }
  ]
}